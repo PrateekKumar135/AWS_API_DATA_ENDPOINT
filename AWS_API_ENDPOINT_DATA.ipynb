{
  "nbformat": 4,
  "nbformat_minor": 0,
  "metadata": {
    "colab": {
      "provenance": [],
      "authorship_tag": "ABX9TyNdqcI7GQeRN4No+yM35RAI",
      "include_colab_link": true
    },
    "kernelspec": {
      "name": "python3",
      "display_name": "Python 3"
    },
    "language_info": {
      "name": "python"
    }
  },
  "cells": [
    {
      "cell_type": "markdown",
      "metadata": {
        "id": "view-in-github",
        "colab_type": "text"
      },
      "source": [
        "<a href=\"https://colab.research.google.com/github/PrateekKumar135/AWS_API_DATA_ENDPOINT/blob/main/AWS_API_ENDPOINT_DATA.ipynb\" target=\"_parent\"><img src=\"https://colab.research.google.com/assets/colab-badge.svg\" alt=\"Open In Colab\"/></a>"
      ]
    },
    {
      "cell_type": "code",
      "execution_count": null,
      "metadata": {
        "id": "AQJ_eInYMtLg"
      },
      "outputs": [],
      "source": [
        "import json\n",
        "import requests\n",
        "import pandas as pd\n",
        "\n",
        "# API Endpoint\n",
        "API_ENDPOINT = \"url\"  # Replace with actual API URL\n",
        "BEARER_TOKEN = \"BEARER_TOKEN\"  # Replace with your actual token\n",
        "\n",
        "# Define the column mapping\n",
        "COLUMN_MAPPING = {\n",
        "    \"id\": \"Id\",\n",
        "    \"description\": \"Description\",\n",
        "}\n",
        "\n",
        "def lambda_handler(event, context):\n",
        "    try:\n",
        "        # Set Authorization headers\n",
        "        headers = {\n",
        "            \"Authorization\": f\"Bearer {BEARER_TOKEN}\",\n",
        "            \"Content-Type\": \"application/json\"\n",
        "        }\n",
        "\n",
        "        # Fetch data from API\n",
        "        response = requests.get(API_ENDPOINT, headers=headers)\n",
        "\n",
        "        # Debugging: Print response details\n",
        "        print(f\"Response Status: {response.status_code}\")\n",
        "        print(f\"Response Body: {response.text}\")\n",
        "\n",
        "        # Check if API call was successful\n",
        "        if response.status_code != 200:\n",
        "            return {\n",
        "                \"statusCode\": response.status_code,\n",
        "                \"body\": json.dumps({\"error\": \"Failed to fetch data from API\", \"details\": response.text})\n",
        "            }\n",
        "\n",
        "        # Convert API JSON response to DataFrame\n",
        "        data = response.json()\n",
        "        df = pd.DataFrame(data)\n",
        "\n",
        "        # Rename columns based on mapping\n",
        "        df.rename(columns=COLUMN_MAPPING, inplace=True)\n",
        "\n",
        "        # Convert DataFrame to JSON\n",
        "        json_data = df.to_json(orient=\"records\")\n",
        "\n",
        "        # Return JSON response\n",
        "        return {\n",
        "            \"statusCode\": 200,\n",
        "            \"headers\": {\"Content-Type\": \"application/json\"},\n",
        "            \"body\": json_data\n",
        "        }\n",
        "\n",
        "    except Exception as e:\n",
        "        return {\n",
        "            \"statusCode\": 500,\n",
        "            \"body\": json.dumps({\"error\": str(e)})\n",
        "        }\n"
      ]
    }
  ]
}